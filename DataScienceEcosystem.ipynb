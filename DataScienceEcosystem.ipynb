{
  "metadata": {
    "kernelspec": {
      "name": "python",
      "display_name": "Python (Pyodide)",
      "language": "python"
    },
    "language_info": {
      "codemirror_mode": {
        "name": "python",
        "version": 3
      },
      "file_extension": ".py",
      "mimetype": "text/x-python",
      "name": "python",
      "nbconvert_exporter": "python",
      "pygments_lexer": "ipython3",
      "version": "3.8"
    }
  },
  "nbformat_minor": 5,
  "nbformat": 4,
  "cells": [
    {
      "id": "f21cea17-3a02-464d-aea7-b60f2692297b",
      "cell_type": "markdown",
      "source": "# Data Science Tools and Ecosystem",
      "metadata": {}
    },
    {
      "id": "5360a52e-8edd-4b6d-9ddb-ba1b64059b74",
      "cell_type": "markdown",
      "source": "In this notebook, we present the tools and ecosystem of Data Science.",
      "metadata": {}
    },
    {
      "id": "43ed6187-6c90-48f3-be69-ed882bab6b05",
      "cell_type": "markdown",
      "source": "Some of the popular languages that Data Scientists use are:\n1. Python\n2. R\n3. SQL\n4. Julia\n5. Scala",
      "metadata": {}
    },
    {
      "id": "f90822e1-7912-4971-85d2-48f3e4e5fac9",
      "cell_type": "markdown",
      "source": "Some of the commonly used libraries by Data Scientists include:\n1. NumPy\n2. Pandas\n3. Matplotlib\n4. TensorFlow\n5. Scikit-learn\n",
      "metadata": {}
    },
    {
      "id": "164ced4b-c851-4304-b888-972e15e29aaa",
      "cell_type": "markdown",
      "source": "| Data Science Tools            |\n|-------------------------------|\n| Jupyter Notebooks             |\n| RStudio                       |\n| Apache Zeppelin               |\n",
      "metadata": {}
    },
    {
      "id": "8e567a1d-eac0-40c7-b14b-7b3c001ac0b0",
      "cell_type": "markdown",
      "source": "### Below are a few examples of evaluating arithmetic expressions in Python.",
      "metadata": {}
    },
    {
      "id": "e1b43c63-3994-4ccf-b27d-5f9bbb3356a9",
      "cell_type": "code",
      "source": "(3 * 4) + 5",
      "metadata": {
        "trusted": true
      },
      "outputs": [
        {
          "execution_count": 2,
          "output_type": "execute_result",
          "data": {
            "text/plain": "17"
          },
          "metadata": {}
        }
      ],
      "execution_count": 2
    },
    {
      "id": "52f2b830-4e80-4847-b90c-33dde6f33f0c",
      "cell_type": "code",
      "source": "200 / 60",
      "metadata": {
        "trusted": true
      },
      "outputs": [
        {
          "execution_count": 3,
          "output_type": "execute_result",
          "data": {
            "text/plain": "3.3333333333333335"
          },
          "metadata": {}
        }
      ],
      "execution_count": 3
    },
    {
      "id": "263b97ca-4c68-4e9e-b9d2-8a06cd6dfd7d",
      "cell_type": "markdown",
      "source": "**Objectives:**\n- List popular languages for Data Science.\n- List commonly used libraries for Data Science.\n- Demonstrate the use of Data Science tools.\n- Perform simple arithmetic operations in Python.\n- Convert time from minutes to hours.\n",
      "metadata": {}
    },
    {
      "id": "1d08e56f-6b89-4413-ab37-563132b8483c",
      "cell_type": "markdown",
      "source": "## Author\nYour Name",
      "metadata": {}
    },
    {
      "id": "25fef67d-ce71-4da0-aef5-774fcd8e5f76",
      "cell_type": "code",
      "source": "",
      "metadata": {
        "trusted": true
      },
      "outputs": [],
      "execution_count": null
    }
  ]
}